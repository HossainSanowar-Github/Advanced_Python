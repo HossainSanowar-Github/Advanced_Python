{
 "cells": [
  {
   "cell_type": "markdown",
   "id": "0cefc714",
   "metadata": {},
   "source": [
    "# polymorphism\n",
    "* method is same, but nature will be different \n",
    "* decorator is nothing but predefine function which is available in python; symbolic representation "
   ]
  },
  {
   "cell_type": "code",
   "execution_count": 1,
   "id": "10f6a28e",
   "metadata": {},
   "outputs": [],
   "source": [
    "def test(a,b):\n",
    "    return a+b"
   ]
  },
  {
   "cell_type": "code",
   "execution_count": 2,
   "id": "2e372614",
   "metadata": {},
   "outputs": [
    {
     "data": {
      "text/plain": [
       "7"
      ]
     },
     "execution_count": 2,
     "metadata": {},
     "output_type": "execute_result"
    }
   ],
   "source": [
    "test(3,4)"
   ]
  },
  {
   "cell_type": "code",
   "execution_count": 3,
   "id": "8eb992f2",
   "metadata": {},
   "outputs": [
    {
     "data": {
      "text/plain": [
       "'sanowarhoosain'"
      ]
     },
     "execution_count": 3,
     "metadata": {},
     "output_type": "execute_result"
    }
   ],
   "source": [
    "test('sanowar','hoosain')"
   ]
  },
  {
   "cell_type": "code",
   "execution_count": 4,
   "id": "16e25a3d",
   "metadata": {},
   "outputs": [],
   "source": [
    "class insta:\n",
    "    def share_stories(self):\n",
    "        print('this will share my insta story')\n",
    "\n",
    "class facebook:   \n",
    "    def share_stories(self):\n",
    "        print('this will share my facebook story')"
   ]
  },
  {
   "cell_type": "code",
   "execution_count": 5,
   "id": "5af6fc0f",
   "metadata": {},
   "outputs": [],
   "source": [
    "def sharestories(app):\n",
    "    app.share_stories()"
   ]
  },
  {
   "cell_type": "code",
   "execution_count": 6,
   "id": "8313ff07",
   "metadata": {},
   "outputs": [],
   "source": [
    "i=insta()\n",
    "f=facebook()"
   ]
  },
  {
   "cell_type": "code",
   "execution_count": 7,
   "id": "1947ee7a",
   "metadata": {},
   "outputs": [
    {
     "name": "stdout",
     "output_type": "stream",
     "text": [
      "this will share my insta story\n"
     ]
    }
   ],
   "source": [
    "sharestories(i)"
   ]
  },
  {
   "cell_type": "code",
   "execution_count": 8,
   "id": "bf2ff0ed",
   "metadata": {},
   "outputs": [
    {
     "name": "stdout",
     "output_type": "stream",
     "text": [
      "this will share my facebook story\n"
     ]
    }
   ],
   "source": [
    "sharestories(f)"
   ]
  },
  {
   "cell_type": "markdown",
   "id": "770c2a1e",
   "metadata": {},
   "source": [
    "# Example"
   ]
  },
  {
   "cell_type": "code",
   "execution_count": 9,
   "id": "42aaebee",
   "metadata": {},
   "outputs": [],
   "source": [
    "class social_media:\n",
    "    def share_stories(self):\n",
    "        print('share a stories')\n",
    "    def upload_pic(self):\n",
    "        print('this will help you to upload the pic')\n",
    "        \n",
    "class facebook(social_media):\n",
    "    def share_stories(self):\n",
    "        print('this is a fun for sharing a story for facebook')\n",
    "        \n",
    "class insta(social_media):\n",
    "    def share_stories(self):\n",
    "        print('this is a fun for sharing a story for insta')\n"
   ]
  },
  {
   "cell_type": "code",
   "execution_count": 10,
   "id": "bd93085c",
   "metadata": {},
   "outputs": [],
   "source": [
    "f=facebook()\n",
    "i=insta()"
   ]
  },
  {
   "cell_type": "code",
   "execution_count": 11,
   "id": "5fc6ca82",
   "metadata": {},
   "outputs": [
    {
     "name": "stdout",
     "output_type": "stream",
     "text": [
      "this is a fun for sharing a story for facebook\n"
     ]
    }
   ],
   "source": [
    "f.share_stories()"
   ]
  },
  {
   "cell_type": "code",
   "execution_count": 12,
   "id": "c8a996b6",
   "metadata": {},
   "outputs": [
    {
     "name": "stdout",
     "output_type": "stream",
     "text": [
      "this is a fun for sharing a story for insta\n"
     ]
    }
   ],
   "source": [
    "i.share_stories()"
   ]
  },
  {
   "cell_type": "markdown",
   "id": "d5c710cc",
   "metadata": {},
   "source": [
    "# User define Exception class"
   ]
  },
  {
   "cell_type": "code",
   "execution_count": 15,
   "id": "fe5f1ffb",
   "metadata": {},
   "outputs": [],
   "source": [
    "class test(Exception):\n",
    "    def __init__(self,msg):\n",
    "        self.msg=msg"
   ]
  },
  {
   "cell_type": "code",
   "execution_count": 16,
   "id": "e3c8bcd5",
   "metadata": {},
   "outputs": [
    {
     "name": "stdout",
     "output_type": "stream",
     "text": [
      "this is my own exception class\n"
     ]
    }
   ],
   "source": [
    "try:\n",
    "    raise(test(\"this is my own exception class\"))\n",
    "except test as t:\n",
    "    print(t)"
   ]
  },
  {
   "cell_type": "code",
   "execution_count": 17,
   "id": "949f1ae4",
   "metadata": {},
   "outputs": [
    {
     "ename": "ZeroDivisionError",
     "evalue": "division by zero",
     "output_type": "error",
     "traceback": [
      "\u001b[0;31m---------------------------------------------------------------------------\u001b[0m",
      "\u001b[0;31mZeroDivisionError\u001b[0m                         Traceback (most recent call last)",
      "\u001b[0;32m/var/folders/70/xyz7khq54gx8qklx52wtt6tw0000gn/T/ipykernel_15114/616537507.py\u001b[0m in \u001b[0;36m<module>\u001b[0;34m\u001b[0m\n\u001b[1;32m      1\u001b[0m \u001b[0;32mtry\u001b[0m\u001b[0;34m:\u001b[0m\u001b[0;34m\u001b[0m\u001b[0;34m\u001b[0m\u001b[0m\n\u001b[0;32m----> 2\u001b[0;31m     \u001b[0;36m5\u001b[0m\u001b[0;34m/\u001b[0m\u001b[0;36m0\u001b[0m\u001b[0;34m\u001b[0m\u001b[0;34m\u001b[0m\u001b[0m\n\u001b[0m\u001b[1;32m      3\u001b[0m \u001b[0;32mexcept\u001b[0m \u001b[0mtest\u001b[0m \u001b[0;32mas\u001b[0m \u001b[0mt\u001b[0m\u001b[0;34m:\u001b[0m\u001b[0;34m\u001b[0m\u001b[0;34m\u001b[0m\u001b[0m\n\u001b[1;32m      4\u001b[0m     \u001b[0mprint\u001b[0m\u001b[0;34m(\u001b[0m\u001b[0mt\u001b[0m\u001b[0;34m)\u001b[0m\u001b[0;34m\u001b[0m\u001b[0;34m\u001b[0m\u001b[0m\n",
      "\u001b[0;31mZeroDivisionError\u001b[0m: division by zero"
     ]
    }
   ],
   "source": [
    "try:\n",
    "    5/0\n",
    "except test as t:\n",
    "    print(t)"
   ]
  },
  {
   "cell_type": "markdown",
   "id": "6a937e20",
   "metadata": {},
   "source": [
    "* Task:\n",
    "    * q1. create your own class to achive multiple, multilevel inheritence\n",
    "    * q2. create your own class to represent polymorprism\n",
    "    * q3. create your own class for custome exception\n",
    "    * q4. create your own class to achieve encaptulation\n",
    "    * q5. create your own class to achieve method overloading and overridding"
   ]
  },
  {
   "cell_type": "code",
   "execution_count": 32,
   "id": "748da2ca",
   "metadata": {},
   "outputs": [],
   "source": [
    "#multiple inheritance\n",
    "#parent class 1\n",
    "class batch_number:\n",
    "    batchnumber=\"fff\" #static variable\n",
    "    def __init__(self,a,b,c):\n",
    "        self.a=a\n",
    "        self.b=b\n",
    "        self.c=c\n",
    "\n",
    "    @staticmethod #this is called decoratro   \n",
    "    def batch():\n",
    "        print(\"this is static method\")\n",
    "\n",
    "    def batch1(self):\n",
    "        print(\"this is static method\")\n"
   ]
  },
  {
   "cell_type": "code",
   "execution_count": 33,
   "id": "65b3b9f9",
   "metadata": {},
   "outputs": [
    {
     "name": "stdout",
     "output_type": "stream",
     "text": [
      "this is static method\n"
     ]
    }
   ],
   "source": [
    "#this is for static method\n",
    "batch_number.batch()"
   ]
  },
  {
   "cell_type": "code",
   "execution_count": 34,
   "id": "89b33a71",
   "metadata": {},
   "outputs": [
    {
     "name": "stdout",
     "output_type": "stream",
     "text": [
      "this is static method\n"
     ]
    }
   ],
   "source": [
    "#This is instance method\n",
    "b=batch_number(3,4,5)\n",
    "b.batch1()"
   ]
  },
  {
   "cell_type": "code",
   "execution_count": 20,
   "id": "f3fdbed5",
   "metadata": {},
   "outputs": [
    {
     "name": "stdout",
     "output_type": "stream",
     "text": [
      "Batch: 2\n",
      "Course:  FSDS\n"
     ]
    }
   ],
   "source": [
    "#multiple inheritance\n",
    "#parent class 1\n",
    "class batch_number:\n",
    "    batchnumber=\"\" #static variable\n",
    "#     def __init__(self,a,b,c):\n",
    "#         self.a=a\n",
    "#         self.b=b\n",
    "#         self.c=c\n",
    "\n",
    "    @staticmethod #this is called decoratro   \n",
    "    def batch(self):\n",
    "        print(self.batchnumber)\n",
    "\n",
    "#parent class 2\n",
    "class course_name:\n",
    "    cname=\"\"\n",
    "    def course(self):\n",
    "        print(self.cname)\n",
    "        \n",
    "        \n",
    "#child class\n",
    "class student(batch_number,course_name):\n",
    "    def deets(self):\n",
    "        print('Batch:',self.batchnumber)\n",
    "        print('Course: ',self.cname)\n",
    "\n",
    "#child class mode:\n",
    "s1=student()\n",
    "s1.batchnumber='2'\n",
    "s1.cname='FSDS'\n",
    "s1.deets()"
   ]
  },
  {
   "cell_type": "markdown",
   "id": "9b493dad",
   "metadata": {},
   "source": [
    "# multi level inheritence\n"
   ]
  },
  {
   "cell_type": "code",
   "execution_count": 36,
   "id": "ee7ffa91",
   "metadata": {},
   "outputs": [
    {
     "name": "stdout",
     "output_type": "stream",
     "text": [
      "method of xyz1 class\n"
     ]
    }
   ],
   "source": [
    "class xyz:\n",
    "    def __init__(self,a,b,c):\n",
    "        self.a=a\n",
    "        self.b=b\n",
    "        self.c=a\n",
    "    def test(self):\n",
    "        print('this is my method of class xyz')\n",
    "        \n",
    "class xyz1(xyz):\n",
    "    def test1(self):\n",
    "        print('method of xyz1 class')\n",
    "        \n",
    "        \n",
    "class xyz2(xyz1):\n",
    "    def test2(self):\n",
    "        print('method of xyz2 class')\n",
    "        \n",
    "n=xyz1(3,4,5)\n",
    "n.test1()"
   ]
  },
  {
   "cell_type": "markdown",
   "id": "d67cc643",
   "metadata": {},
   "source": [
    "# Custom exception"
   ]
  },
  {
   "cell_type": "code",
   "execution_count": 40,
   "id": "b1be5b82",
   "metadata": {},
   "outputs": [
    {
     "name": "stdout",
     "output_type": "stream",
     "text": [
      "enter the first number:23\n",
      "enter the second number:0\n",
      "division by zero\n"
     ]
    }
   ],
   "source": [
    "class division_by_5(Exception):\n",
    "    def __init__(self,msg):\n",
    "        self.msg=msg\n",
    "        \n",
    "try:\n",
    "    a=int(input(\"enter the first number:\"))\n",
    "    b=int(input(\"enter the second number:\"))\n",
    "    if b==5:\n",
    "        raise division_by_5(\"division by 5 error\")\n",
    "except ValueError as msg:\n",
    "    print(msg)\n",
    "except ZeroDivisionError as msg:\n",
    "    print(msg)\n",
    "except division_by_5 as msg:\n",
    "    print(msg)\n",
    "else:\n",
    "    try:\n",
    "        result=a/b\n",
    "        print(result)\n",
    "    except Exception as e:\n",
    "        print(e)\n",
    "\n",
    "\n",
    "    "
   ]
  },
  {
   "cell_type": "markdown",
   "id": "26884483",
   "metadata": {},
   "source": [
    "# Polymorphism"
   ]
  },
  {
   "cell_type": "code",
   "execution_count": 44,
   "id": "baa48170",
   "metadata": {},
   "outputs": [
    {
     "name": "stdout",
     "output_type": "stream",
     "text": [
      "test1\n",
      "test2\n"
     ]
    }
   ],
   "source": [
    "class test1:\n",
    "    def a(self):\n",
    "        return \"test1\"\n",
    "class test2:\n",
    "    def a(self):\n",
    "        return 'test2'\n",
    "    \n",
    "def poly(obj):\n",
    "    print(obj.a())\n",
    "    \n",
    "t1=test1()\n",
    "t2=test2()\n",
    "\n",
    "poly(t1)\n",
    "poly(t2)"
   ]
  },
  {
   "cell_type": "markdown",
   "id": "a1f5b0ec",
   "metadata": {},
   "source": [
    "# Data Project"
   ]
  },
  {
   "cell_type": "code",
   "execution_count": 51,
   "id": "8a93e733",
   "metadata": {},
   "outputs": [],
   "source": [
    "#project abstraction: creating a blueprint of project\n",
    "class data_project:\n",
    "    \n",
    "    def read_file(self):\n",
    "        pass\n",
    "    def validate_file_name(self):\n",
    "        pass\n",
    "    def validate_datatype(self):\n",
    "        pass\n",
    "    def validate_db_conn(self):\n",
    "        pass\n",
    "    def create_conn(self):\n",
    "        pass\n",
    "    def insert_data(self):\n",
    "        pass\n",
    "    def delete_data(self):\n",
    "        pass\n",
    "    def update_data(self):\n",
    "        pass\n",
    "    def perform_stats(self):\n",
    "        pass\n",
    "    def perform_eda(self):\n",
    "        pass"
   ]
  },
  {
   "cell_type": "code",
   "execution_count": 52,
   "id": "b606cf65",
   "metadata": {},
   "outputs": [],
   "source": [
    "class db_ops(data_project):\n",
    "    pass"
   ]
  },
  {
   "cell_type": "markdown",
   "id": "2864fb07",
   "metadata": {},
   "source": [
    "# Overloading and overriding"
   ]
  },
  {
   "cell_type": "code",
   "execution_count": 53,
   "id": "cc44dffe",
   "metadata": {},
   "outputs": [],
   "source": [
    "class test:\n",
    "    def fun(self):\n",
    "        print('this is my sample class')"
   ]
  },
  {
   "cell_type": "code",
   "execution_count": 54,
   "id": "90464bc6",
   "metadata": {},
   "outputs": [],
   "source": [
    "t=test()"
   ]
  },
  {
   "cell_type": "code",
   "execution_count": 55,
   "id": "55431950",
   "metadata": {},
   "outputs": [
    {
     "name": "stdout",
     "output_type": "stream",
     "text": [
      "<__main__.test object at 0x110c87f10>\n"
     ]
    }
   ],
   "source": [
    "print(t)"
   ]
  },
  {
   "cell_type": "code",
   "execution_count": 56,
   "id": "d2e766dd",
   "metadata": {},
   "outputs": [
    {
     "data": {
      "text/plain": [
       "<__main__.test at 0x110c87f10>"
      ]
     },
     "execution_count": 56,
     "metadata": {},
     "output_type": "execute_result"
    }
   ],
   "source": [
    "t"
   ]
  },
  {
   "cell_type": "code",
   "execution_count": null,
   "id": "c200321e",
   "metadata": {},
   "outputs": [],
   "source": []
  }
 ],
 "metadata": {
  "kernelspec": {
   "display_name": "Python 3 (ipykernel)",
   "language": "python",
   "name": "python3"
  },
  "language_info": {
   "codemirror_mode": {
    "name": "ipython",
    "version": 3
   },
   "file_extension": ".py",
   "mimetype": "text/x-python",
   "name": "python",
   "nbconvert_exporter": "python",
   "pygments_lexer": "ipython3",
   "version": "3.9.7"
  }
 },
 "nbformat": 4,
 "nbformat_minor": 5
}
