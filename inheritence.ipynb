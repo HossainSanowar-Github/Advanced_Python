{
 "cells": [
  {
   "cell_type": "markdown",
   "id": "e55cca22",
   "metadata": {},
   "source": [
    "# Inheritence\n",
    "* multiple level, single level\n",
    "* poliphirmism\n",
    "\n",
    "# Encaptulation\n",
    "* people can't modify without your permission\n",
    "* _ _ private\n",
    "* _ protected\n",
    "* no underscore; public"
   ]
  },
  {
   "cell_type": "code",
   "execution_count": 4,
   "id": "dbf5d123",
   "metadata": {},
   "outputs": [],
   "source": [
    "class xyz:\n",
    "    def __init__(self, a,b, c):\n",
    "        self.a=a\n",
    "        self.b=b\n",
    "        self.c=c\n",
    "    \n",
    "    def test(self):\n",
    "        print('This is the first method of xyz class')\n",
    "        \n",
    "    def test1(self):\n",
    "        print('This is the 2nd method of xyz class')\n",
    "   \n",
    "    def test2(self):\n",
    "        print('This is the 3rd method of xyz class')"
   ]
  },
  {
   "cell_type": "code",
   "execution_count": 8,
   "id": "d35529e9",
   "metadata": {},
   "outputs": [],
   "source": [
    "p=xyz(1,2,4)"
   ]
  },
  {
   "cell_type": "code",
   "execution_count": 9,
   "id": "995fe62e",
   "metadata": {},
   "outputs": [
    {
     "name": "stdout",
     "output_type": "stream",
     "text": [
      "This is the first method of xyz class\n"
     ]
    }
   ],
   "source": [
    "p.test()"
   ]
  },
  {
   "cell_type": "code",
   "execution_count": 7,
   "id": "b6424437",
   "metadata": {},
   "outputs": [],
   "source": [
    "# inheritence\n",
    "class xyz1(xyz):\n",
    "    pass"
   ]
  },
  {
   "cell_type": "code",
   "execution_count": 11,
   "id": "f92dabb5",
   "metadata": {},
   "outputs": [],
   "source": [
    "q=xyz1(4,5,6)"
   ]
  },
  {
   "cell_type": "code",
   "execution_count": 12,
   "id": "ef70e1ab",
   "metadata": {},
   "outputs": [
    {
     "name": "stdout",
     "output_type": "stream",
     "text": [
      "This is the first method of xyz class\n"
     ]
    }
   ],
   "source": [
    "q.test()"
   ]
  },
  {
   "cell_type": "code",
   "execution_count": 15,
   "id": "57abc3b6",
   "metadata": {},
   "outputs": [],
   "source": [
    "class xyz1(xyz):\n",
    "    def test(self):\n",
    "        print('this is the test method of xyz1 class')"
   ]
  },
  {
   "cell_type": "code",
   "execution_count": 16,
   "id": "22e5cfe3",
   "metadata": {},
   "outputs": [],
   "source": [
    "g=xyz1(4,5,6)"
   ]
  },
  {
   "cell_type": "code",
   "execution_count": 17,
   "id": "dd7dd61a",
   "metadata": {},
   "outputs": [
    {
     "name": "stdout",
     "output_type": "stream",
     "text": [
      "this is the test method of xyz1 class\n"
     ]
    }
   ],
   "source": [
    "g.test()"
   ]
  },
  {
   "cell_type": "markdown",
   "id": "0c2ebb72",
   "metadata": {},
   "source": [
    "# Multiple Inheritence"
   ]
  },
  {
   "cell_type": "code",
   "execution_count": 57,
   "id": "9a681d45",
   "metadata": {},
   "outputs": [],
   "source": [
    "#parents 1\n",
    "class xyz:\n",
    "    def __init__(self,a,b,c):\n",
    "        self.a=a\n",
    "        self.b=b\n",
    "        self.c=c\n",
    "        \n",
    "    def test(self):\n",
    "        print('this is a method of class xyz')\n",
    "\n",
    "#parents 2        \n",
    "class xyz1:\n",
    "    def __init__(self,p,q,r):\n",
    "        self.p=p\n",
    "        self.q=q\n",
    "        self.r=r\n",
    "        \n",
    "    def test1(self):\n",
    "        z=self.p*self.r\n",
    "        return z\n",
    "        print('this is a method of class xyz1')\n",
    "\n",
    "#parents 3       \n",
    "class xyz2:\n",
    "    def __init__(self,m,n,o):\n",
    "        self.m=m\n",
    "        self.n=n\n",
    "        self.o=o\n",
    "        \n",
    "    def test1(self):\n",
    "        z=self.m*self.n\n",
    "        return z\n",
    "        print('this is a method of class xyz2')\n",
    "\n",
    "\n",
    "#child class multiple inheritence\n",
    "# define init function to work with multiple class\n",
    "class child(xyz,xyz1,xyz2):\n",
    "    def __init__(self,*args,**kwargs):\n",
    "        xyz.__init__(self,*args)\n",
    "        xyz1.__init__(self, **kwargs)\n",
    "        xyz2.__init__(self, **kwargs)"
   ]
  },
  {
   "cell_type": "code",
   "execution_count": 58,
   "id": "0f461af5",
   "metadata": {},
   "outputs": [
    {
     "ename": "TypeError",
     "evalue": "__init__() got an unexpected keyword argument 'p'",
     "output_type": "error",
     "traceback": [
      "\u001b[0;31m---------------------------------------------------------------------------\u001b[0m",
      "\u001b[0;31mTypeError\u001b[0m                                 Traceback (most recent call last)",
      "\u001b[0;32m/var/folders/70/xyz7khq54gx8qklx52wtt6tw0000gn/T/ipykernel_12935/1385022143.py\u001b[0m in \u001b[0;36m<module>\u001b[0;34m\u001b[0m\n\u001b[0;32m----> 1\u001b[0;31m \u001b[0mn\u001b[0m\u001b[0;34m=\u001b[0m\u001b[0mchild\u001b[0m\u001b[0;34m(\u001b[0m\u001b[0;36m2\u001b[0m\u001b[0;34m,\u001b[0m\u001b[0;36m3\u001b[0m\u001b[0;34m,\u001b[0m\u001b[0;36m4\u001b[0m\u001b[0;34m,\u001b[0m\u001b[0mp\u001b[0m\u001b[0;34m=\u001b[0m\u001b[0;36m5\u001b[0m\u001b[0;34m,\u001b[0m\u001b[0mq\u001b[0m\u001b[0;34m=\u001b[0m\u001b[0;36m6\u001b[0m\u001b[0;34m,\u001b[0m\u001b[0mr\u001b[0m\u001b[0;34m=\u001b[0m\u001b[0;36m7\u001b[0m\u001b[0;34m)\u001b[0m\u001b[0;34m\u001b[0m\u001b[0;34m\u001b[0m\u001b[0m\n\u001b[0m",
      "\u001b[0;32m/var/folders/70/xyz7khq54gx8qklx52wtt6tw0000gn/T/ipykernel_12935/3208728835.py\u001b[0m in \u001b[0;36m__init__\u001b[0;34m(self, *args, **kwargs)\u001b[0m\n\u001b[1;32m     40\u001b[0m         \u001b[0mxyz\u001b[0m\u001b[0;34m.\u001b[0m\u001b[0m__init__\u001b[0m\u001b[0;34m(\u001b[0m\u001b[0mself\u001b[0m\u001b[0;34m,\u001b[0m\u001b[0;34m*\u001b[0m\u001b[0margs\u001b[0m\u001b[0;34m)\u001b[0m\u001b[0;34m\u001b[0m\u001b[0;34m\u001b[0m\u001b[0m\n\u001b[1;32m     41\u001b[0m         \u001b[0mxyz1\u001b[0m\u001b[0;34m.\u001b[0m\u001b[0m__init__\u001b[0m\u001b[0;34m(\u001b[0m\u001b[0mself\u001b[0m\u001b[0;34m,\u001b[0m \u001b[0;34m**\u001b[0m\u001b[0mkwargs\u001b[0m\u001b[0;34m)\u001b[0m\u001b[0;34m\u001b[0m\u001b[0;34m\u001b[0m\u001b[0m\n\u001b[0;32m---> 42\u001b[0;31m         \u001b[0mxyz2\u001b[0m\u001b[0;34m.\u001b[0m\u001b[0m__init__\u001b[0m\u001b[0;34m(\u001b[0m\u001b[0mself\u001b[0m\u001b[0;34m,\u001b[0m \u001b[0;34m**\u001b[0m\u001b[0mkwargs\u001b[0m\u001b[0;34m)\u001b[0m\u001b[0;34m\u001b[0m\u001b[0;34m\u001b[0m\u001b[0m\n\u001b[0m",
      "\u001b[0;31mTypeError\u001b[0m: __init__() got an unexpected keyword argument 'p'"
     ]
    }
   ],
   "source": [
    "n=child(2,3,4,p=5,q=6,r=7)"
   ]
  },
  {
   "cell_type": "code",
   "execution_count": 46,
   "id": "b3db423f",
   "metadata": {},
   "outputs": [
    {
     "data": {
      "text/plain": [
       "7"
      ]
     },
     "execution_count": 46,
     "metadata": {},
     "output_type": "execute_result"
    }
   ],
   "source": [
    "n.r"
   ]
  },
  {
   "cell_type": "code",
   "execution_count": 47,
   "id": "58f40a33",
   "metadata": {},
   "outputs": [
    {
     "name": "stdout",
     "output_type": "stream",
     "text": [
      "this is a method of class xyz\n"
     ]
    }
   ],
   "source": [
    "n.test()"
   ]
  },
  {
   "cell_type": "code",
   "execution_count": 48,
   "id": "829b5db4",
   "metadata": {},
   "outputs": [
    {
     "data": {
      "text/plain": [
       "35"
      ]
     },
     "execution_count": 48,
     "metadata": {},
     "output_type": "execute_result"
    }
   ],
   "source": [
    "n.test1()"
   ]
  },
  {
   "cell_type": "markdown",
   "id": "b1a715c3",
   "metadata": {},
   "source": [
    "# multilevel inheritence"
   ]
  },
  {
   "cell_type": "code",
   "execution_count": 74,
   "id": "9f751f86",
   "metadata": {},
   "outputs": [],
   "source": [
    "#parents 1\n",
    "class xyz:\n",
    "    def __init__(self,a,b,c):\n",
    "        self.a=a\n",
    "        self.b=b\n",
    "        self.c=c\n",
    "        \n",
    "    def test(self):\n",
    "        print('this is a method of class xyz')\n",
    "\n",
    "#parents 2        \n",
    "class xyz1(xyz):\n",
    "        \n",
    "    def test1(self):\n",
    "        print('this is a method of class xyz1')\n",
    "\n",
    "#parents 3       \n",
    "class xyz2(xyz1):       \n",
    "    def test2(self):\n",
    "        print('this is a method of class xyz2')\n",
    "\n",
    "class xyz3(xyz2):       \n",
    "    def test3(self):\n",
    "        print('this is a method of class xyz3')\n"
   ]
  },
  {
   "cell_type": "code",
   "execution_count": 75,
   "id": "7b878c75",
   "metadata": {},
   "outputs": [],
   "source": [
    "v=xyz2(5,6,7)"
   ]
  },
  {
   "cell_type": "code",
   "execution_count": 76,
   "id": "68011b7c",
   "metadata": {},
   "outputs": [],
   "source": [
    "m=xyz3(6,7,8)"
   ]
  },
  {
   "cell_type": "code",
   "execution_count": 77,
   "id": "ef6de48c",
   "metadata": {},
   "outputs": [],
   "source": [
    "n=xyz(1,2,3)"
   ]
  },
  {
   "cell_type": "code",
   "execution_count": 79,
   "id": "271b4c07",
   "metadata": {},
   "outputs": [
    {
     "name": "stdout",
     "output_type": "stream",
     "text": [
      "this is a method of class xyz\n"
     ]
    }
   ],
   "source": [
    "n.test()"
   ]
  },
  {
   "cell_type": "markdown",
   "id": "2ba41c08",
   "metadata": {},
   "source": [
    "* Task:\n",
    "    * q1: create a file class for reading data from respective file with a method name read and write\n",
    "    * q2: try to inherit read and write method from parent class to child class to perform read and write operation"
   ]
  },
  {
   "cell_type": "code",
   "execution_count": 3,
   "id": "db4f944f",
   "metadata": {},
   "outputs": [
    {
     "data": {
      "text/plain": [
       "''"
      ]
     },
     "execution_count": 3,
     "metadata": {},
     "output_type": "execute_result"
    }
   ],
   "source": [
    "import logging\n",
    "\n",
    "logging.basicConfig(filename='keep.log',level=logging.DEBUG,format=\"%(asctime)s %(levelname)s %(message)s\",filemode='w')\n",
    "\n",
    "class file:\n",
    "    def __init__(self,filename):\n",
    "        self.filename=filename\n",
    "        \n",
    "    def read(self):\n",
    "        logging.info('executing read method')\n",
    "        try:\n",
    "            with open(f\"{self.filename}.txt\",'r') as f:\n",
    "                data=f.read()\n",
    "                return data\n",
    "        except Exception as e:\n",
    "            logging.error('Error occured while opening the file')\n",
    "            logging.exception(f'Error is {e}')\n",
    "    \n",
    "    def write(self,data):\n",
    "        logging.info(\"executing write method\")\n",
    "        try:\n",
    "            with open(f\"{self.filename}.txt\",'w') as f:\n",
    "                data = f.write(data)\n",
    "        except Exception as e:\n",
    "            logging.error('Error occured while writing the file')\n",
    "            logging.exception(f'Error is {e}')\n",
    "\n",
    "class write_method(file):\n",
    "    def read_write(self):\n",
    "        print('inheritence of file class')\n",
    "\n",
    "obj=file('abc')\n",
    "obj2=write_method('xyz')\n",
    "obj2.read()"
   ]
  },
  {
   "cell_type": "code",
   "execution_count": 5,
   "id": "4e7aa72c",
   "metadata": {},
   "outputs": [
    {
     "ename": "TypeError",
     "evalue": "write() missing 1 required positional argument: 'data'",
     "output_type": "error",
     "traceback": [
      "\u001b[0;31m---------------------------------------------------------------------------\u001b[0m",
      "\u001b[0;31mTypeError\u001b[0m                                 Traceback (most recent call last)",
      "\u001b[0;32m/var/folders/70/xyz7khq54gx8qklx52wtt6tw0000gn/T/ipykernel_13952/2172941681.py\u001b[0m in \u001b[0;36m<module>\u001b[0;34m\u001b[0m\n\u001b[0;32m----> 1\u001b[0;31m \u001b[0mobj\u001b[0m\u001b[0;34m.\u001b[0m\u001b[0mwrite\u001b[0m\u001b[0;34m(\u001b[0m\u001b[0;34m)\u001b[0m\u001b[0;34m\u001b[0m\u001b[0;34m\u001b[0m\u001b[0m\n\u001b[0m",
      "\u001b[0;31mTypeError\u001b[0m: write() missing 1 required positional argument: 'data'"
     ]
    }
   ],
   "source": [
    "obj.write()"
   ]
  },
  {
   "cell_type": "code",
   "execution_count": 6,
   "id": "d59f1c48",
   "metadata": {},
   "outputs": [
    {
     "name": "stdout",
     "output_type": "stream",
     "text": [
      "Inserted Lines .......\n"
     ]
    }
   ],
   "source": [
    "class readFile:\n",
    "    def __init__(self,fileObj, lines):\n",
    "        self.file = fileObj\n",
    "        self.lines = lines\n",
    "        \n",
    "    def readFile(self):\n",
    "        file2=open(self.file,'r')\n",
    "        line=file2.readline()\n",
    "        while(line!=\"\"):\n",
    "            print(line)\n",
    "            line=file2.readline()\n",
    "\n",
    "    def writeFile(self):\n",
    "        content_write = open(self.file,'w')\n",
    "        content_write.writelines(lines)\n",
    "        content_write.close()\n",
    "        \n",
    "class readFile1(readFile):\n",
    "    def readFile1(self):\n",
    "        print(\"inheritance of readFile class\")\n",
    "\n",
    "file1 = r'test1.txt'\n",
    "lines = 'Inserted Lines .......'\n",
    "\n",
    "read_write = readFile1(file1,lines)\n",
    "read_write.writeFile()\n",
    "read_write.readFile()\n"
   ]
  },
  {
   "cell_type": "code",
   "execution_count": 7,
   "id": "3d325f91",
   "metadata": {},
   "outputs": [],
   "source": [
    "class fileopeartion:\n",
    "    def __init__(self,filepath):\n",
    "        self.filepath = filepath\n",
    "    def read(self):\n",
    "        try:\n",
    "            f = open(self.filepath,\"r+\")\n",
    "            print(f.read())\n",
    "        except Exception as e:\n",
    "            print(e)\n",
    "        f.close()\n",
    "    def write(self,writings=\"\"):\n",
    "        try:\n",
    "            f = open(self.filepath,\"a\")\n",
    "        except Exception as e:\n",
    "            print(e)\n",
    "        f.write(writings)\n",
    "        f.close()\n",
    "class child(fileopeartion):\n",
    "    pass"
   ]
  },
  {
   "cell_type": "code",
   "execution_count": 8,
   "id": "1473e6c3",
   "metadata": {},
   "outputs": [],
   "source": [
    "class file_read(object):\n",
    "    def __init__(self,filename) -> None:\n",
    "        self.file = filename\n",
    "        \n",
    "class read(file_read):\n",
    "    def read(self):\n",
    "        try : \n",
    "            open_file = open(self.file, \"r\")\n",
    "            self.read_file = open_file.read()\n",
    "            open_file.close()\n",
    "            return self.read_file\n",
    "        except Exception as e :\n",
    "            return e \n",
    "    \n",
    "class write(file_read) :\n",
    "    def write(self,*args):\n",
    "        try : \n",
    "            open_file = open(self.file, \"w\")\n",
    "            for ele in args:\n",
    "                open_file.write(ele)\n",
    "            return True\n",
    "        except Exception as e :\n",
    "            return e\n"
   ]
  },
  {
   "cell_type": "code",
   "execution_count": 9,
   "id": "bbb6a754",
   "metadata": {},
   "outputs": [],
   "source": [
    "class filetask:\n",
    "    def __init__(self, filename,filetype):\n",
    "        self.filename=filename\n",
    "        self.filetype=filetype\n",
    "        \n",
    "    def file_write(self):\n",
    "        f=open(self.filename,'w')\n",
    "        f.write('this is myc class task')\n",
    "        f.close()\n",
    "        \n",
    "    def file_read(self):\n",
    "        f=open(self.filename,'r')\n",
    "        print(f.read())\n",
    "        f.close()\n",
    "            \n",
    "class child(filetask):\n",
    "    pass\n",
    "     \n",
    "test1=filetask('testingclass','.txt') \n",
    "test2=child('testingchild','.txt')\n"
   ]
  },
  {
   "cell_type": "markdown",
   "id": "eec4b3fa",
   "metadata": {},
   "source": [
    "# Public,Private and Protected"
   ]
  },
  {
   "cell_type": "code",
   "execution_count": 31,
   "id": "0dcc1d93",
   "metadata": {},
   "outputs": [],
   "source": [
    "class test:\n",
    "    def __init__(self):\n",
    "        self.__a=4\n",
    "        #self.b=b\n",
    "        #self.c=c\n",
    "        \n",
    "class test1(test):\n",
    "    def __init__(self):\n",
    "        self.__a=7\n",
    "\n",
    "u=test()\n"
   ]
  },
  {
   "cell_type": "code",
   "execution_count": 32,
   "id": "fe2c597c",
   "metadata": {},
   "outputs": [
    {
     "ename": "AttributeError",
     "evalue": "'test' object has no attribute '__a'",
     "output_type": "error",
     "traceback": [
      "\u001b[0;31m---------------------------------------------------------------------------\u001b[0m",
      "\u001b[0;31mAttributeError\u001b[0m                            Traceback (most recent call last)",
      "\u001b[0;32m/var/folders/70/xyz7khq54gx8qklx52wtt6tw0000gn/T/ipykernel_13952/3701111835.py\u001b[0m in \u001b[0;36m<module>\u001b[0;34m\u001b[0m\n\u001b[0;32m----> 1\u001b[0;31m \u001b[0mu\u001b[0m\u001b[0;34m.\u001b[0m\u001b[0m__a\u001b[0m\u001b[0;34m\u001b[0m\u001b[0;34m\u001b[0m\u001b[0m\n\u001b[0m",
      "\u001b[0;31mAttributeError\u001b[0m: 'test' object has no attribute '__a'"
     ]
    }
   ],
   "source": [
    "u.__a"
   ]
  },
  {
   "cell_type": "markdown",
   "id": "8fb19049",
   "metadata": {},
   "source": [
    "# Encaptulation\n",
    "* people can't modify without your permission\n",
    "* _ _ private\n",
    "* _ protected\n",
    "* no underscore; public"
   ]
  },
  {
   "cell_type": "code",
   "execution_count": 56,
   "id": "677fc634",
   "metadata": {},
   "outputs": [],
   "source": [
    "class test:\n",
    "    def __init__(self,a,b,c):\n",
    "        self._a=a #protected\n",
    "        self.__b=b #private\n",
    "        self.c=c#public\n",
    "class test1(test):\n",
    "    pass\n",
    "\n",
    "v=test(4,5,6)"
   ]
  },
  {
   "cell_type": "code",
   "execution_count": 57,
   "id": "e469ab64",
   "metadata": {},
   "outputs": [
    {
     "data": {
      "text/plain": [
       "4"
      ]
     },
     "execution_count": 57,
     "metadata": {},
     "output_type": "execute_result"
    }
   ],
   "source": [
    "v._a"
   ]
  },
  {
   "cell_type": "code",
   "execution_count": 58,
   "id": "a738edaf",
   "metadata": {},
   "outputs": [
    {
     "data": {
      "text/plain": [
       "5"
      ]
     },
     "execution_count": 58,
     "metadata": {},
     "output_type": "execute_result"
    }
   ],
   "source": [
    "v._test__b"
   ]
  },
  {
   "cell_type": "code",
   "execution_count": 59,
   "id": "8b391e7c",
   "metadata": {},
   "outputs": [],
   "source": [
    "u=test1(5,6,7)"
   ]
  },
  {
   "cell_type": "code",
   "execution_count": 60,
   "id": "e299a47b",
   "metadata": {},
   "outputs": [
    {
     "data": {
      "text/plain": [
       "5"
      ]
     },
     "execution_count": 60,
     "metadata": {},
     "output_type": "execute_result"
    }
   ],
   "source": [
    "u._a"
   ]
  },
  {
   "cell_type": "code",
   "execution_count": 63,
   "id": "0271be4e",
   "metadata": {},
   "outputs": [
    {
     "data": {
      "text/plain": [
       "6"
      ]
     },
     "execution_count": 63,
     "metadata": {},
     "output_type": "execute_result"
    }
   ],
   "source": [
    "#work, but some are restriction, when we apply private variable,\n",
    "# child class name._parent class name__variable name\n",
    "u._test__b"
   ]
  },
  {
   "cell_type": "code",
   "execution_count": null,
   "id": "7f0296f0",
   "metadata": {},
   "outputs": [],
   "source": [
    "# Example bonus calculator"
   ]
  },
  {
   "cell_type": "code",
   "execution_count": 10,
   "id": "3e5c1f8c",
   "metadata": {},
   "outputs": [],
   "source": [
    "class bonousclaculator:\n",
    "    def __init__(self, empid , emprating) :\n",
    "        self.empid = empid\n",
    "        self.emprating = emprating\n",
    "        self._empmail = \"fdsfsfssf@gmail.com\"\n",
    "        self.__bonusforratingA = \"70%\"\n",
    "        self.__bonusforraringB = \"60%\"\n",
    "        self.__bonusforratinC = \"40%\"\n",
    "    \n",
    "    def bonuscalculator(self) :\n",
    "        if self.emprating == \"A\":\n",
    "            bonus = self.__bonusforratingA\n",
    "            return bonus\n",
    "        elif self.emprating == \"B\" :\n",
    "            bonus = self.__bonusforraringB\n",
    "            return bonus\n",
    "        else :\n",
    "            bonus = self.__bonusforratinC\n",
    "            return bonus"
   ]
  },
  {
   "cell_type": "code",
   "execution_count": 11,
   "id": "d60a06b7",
   "metadata": {},
   "outputs": [],
   "source": [
    "emp1 = bonousclaculator(101 , \"A\")\n",
    "emp2 = bonousclaculator(102 , \"B\")\n",
    "emp3 = bonousclaculator(103, \"C\")"
   ]
  },
  {
   "cell_type": "code",
   "execution_count": 12,
   "id": "a9fcec33",
   "metadata": {},
   "outputs": [
    {
     "data": {
      "text/plain": [
       "'70%'"
      ]
     },
     "execution_count": 12,
     "metadata": {},
     "output_type": "execute_result"
    }
   ],
   "source": [
    "emp1.bonuscalculator()"
   ]
  },
  {
   "cell_type": "code",
   "execution_count": null,
   "id": "f6067c9c",
   "metadata": {},
   "outputs": [],
   "source": []
  }
 ],
 "metadata": {
  "kernelspec": {
   "display_name": "Python 3.9 (tensorflow)",
   "language": "python",
   "name": "tensorflow"
  },
  "language_info": {
   "codemirror_mode": {
    "name": "ipython",
    "version": 3
   },
   "file_extension": ".py",
   "mimetype": "text/x-python",
   "name": "python",
   "nbconvert_exporter": "python",
   "pygments_lexer": "ipython3",
   "version": "3.9.7"
  }
 },
 "nbformat": 4,
 "nbformat_minor": 5
}
