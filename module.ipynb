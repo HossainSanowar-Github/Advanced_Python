{
 "cells": [
  {
   "cell_type": "markdown",
   "id": "adef2642",
   "metadata": {},
   "source": [
    "# Module\n",
    "* How to use current code \n",
    "* collection of a code and reuse it"
   ]
  },
  {
   "cell_type": "code",
   "execution_count": 1,
   "id": "714f34f6",
   "metadata": {},
   "outputs": [],
   "source": [
    "import os"
   ]
  },
  {
   "cell_type": "code",
   "execution_count": 2,
   "id": "312f9d9f",
   "metadata": {},
   "outputs": [],
   "source": [
    "#create py file\n",
    "#open('test.py','w')"
   ]
  },
  {
   "cell_type": "code",
   "execution_count": 3,
   "id": "9f88bc34",
   "metadata": {},
   "outputs": [],
   "source": [
    "import test"
   ]
  },
  {
   "cell_type": "code",
   "execution_count": 4,
   "id": "42d94125",
   "metadata": {},
   "outputs": [],
   "source": [
    "#open('myfunc.py','w')"
   ]
  },
  {
   "cell_type": "code",
   "execution_count": 5,
   "id": "68c0e8cb",
   "metadata": {},
   "outputs": [
    {
     "data": {
      "text/plain": [
       "'/Users/mdsanowarhossain/Documents/python/Python_Advanced'"
      ]
     },
     "execution_count": 5,
     "metadata": {},
     "output_type": "execute_result"
    }
   ],
   "source": [
    "pwd"
   ]
  },
  {
   "cell_type": "code",
   "execution_count": 12,
   "id": "d37d8684",
   "metadata": {},
   "outputs": [],
   "source": [
    "import myfunc\n",
    "from myfunc import dict_parsing"
   ]
  },
  {
   "cell_type": "code",
   "execution_count": 7,
   "id": "de0e0ad3",
   "metadata": {},
   "outputs": [
    {
     "data": {
      "text/plain": [
       "myfunc.dict_parsing"
      ]
     },
     "execution_count": 7,
     "metadata": {},
     "output_type": "execute_result"
    }
   ],
   "source": [
    "myfunc.dict_parsing"
   ]
  },
  {
   "cell_type": "code",
   "execution_count": 9,
   "id": "1d05a16e",
   "metadata": {},
   "outputs": [],
   "source": [
    "d=myfunc.dict_parsing({'k':'sanowar','k1':23})"
   ]
  },
  {
   "cell_type": "code",
   "execution_count": 10,
   "id": "1196bfeb",
   "metadata": {},
   "outputs": [
    {
     "data": {
      "text/plain": [
       "['k', 'k1']"
      ]
     },
     "execution_count": 10,
     "metadata": {},
     "output_type": "execute_result"
    }
   ],
   "source": [
    "d.getkeys()"
   ]
  },
  {
   "cell_type": "code",
   "execution_count": 11,
   "id": "70745ad7",
   "metadata": {},
   "outputs": [
    {
     "data": {
      "text/plain": [
       "['sanowar', 23]"
      ]
     },
     "execution_count": 11,
     "metadata": {},
     "output_type": "execute_result"
    }
   ],
   "source": [
    "d.getvalues()"
   ]
  },
  {
   "cell_type": "code",
   "execution_count": 13,
   "id": "0a50271f",
   "metadata": {},
   "outputs": [],
   "source": [
    "d1=dict_parsing({'k':'sanowar','k1':23})"
   ]
  },
  {
   "cell_type": "code",
   "execution_count": 14,
   "id": "28df59a6",
   "metadata": {},
   "outputs": [
    {
     "data": {
      "text/plain": [
       "['k', 'k1']"
      ]
     },
     "execution_count": 14,
     "metadata": {},
     "output_type": "execute_result"
    }
   ],
   "source": [
    "d1.getkeys()"
   ]
  },
  {
   "cell_type": "markdown",
   "id": "20ed013a",
   "metadata": {},
   "source": [
    "# Import multiple class from single module\n"
   ]
  },
  {
   "cell_type": "code",
   "execution_count": 1,
   "id": "8990ec0c",
   "metadata": {},
   "outputs": [],
   "source": [
    "from myfunc import dict_parsing, dict_parsing2,dict_parsing3"
   ]
  },
  {
   "cell_type": "code",
   "execution_count": 2,
   "id": "043dd715",
   "metadata": {},
   "outputs": [],
   "source": [
    "d2=dict_parsing3({'k':'sanowar','k1':23})"
   ]
  },
  {
   "cell_type": "code",
   "execution_count": 3,
   "id": "68ec2a45",
   "metadata": {},
   "outputs": [
    {
     "data": {
      "text/plain": [
       "['k', 'k1']"
      ]
     },
     "execution_count": 3,
     "metadata": {},
     "output_type": "execute_result"
    }
   ],
   "source": [
    "d2.getkeys()"
   ]
  },
  {
   "cell_type": "markdown",
   "id": "b467b203",
   "metadata": {},
   "source": [
    "Question"
   ]
  },
  {
   "cell_type": "markdown",
   "id": "84a86a07",
   "metadata": {},
   "source": [
    "* q1. Create your own package for all the list function\n",
    "* q2. Create your own package for all the tuple function\n",
    "* q3. Create your own package for all the dictionary function\n",
    "* q4. Create your own package for all the set function"
   ]
  },
  {
   "cell_type": "markdown",
   "id": "35662e75",
   "metadata": {},
   "source": [
    "* Restriction:\n",
    "    * always use exception handling\n",
    "    * never use print statement\n",
    "    * always use logging while writing a code and log every activity performed by code in respective logging file"
   ]
  },
  {
   "cell_type": "code",
   "execution_count": 4,
   "id": "1cf6ca7c",
   "metadata": {},
   "outputs": [
    {
     "data": {
      "text/plain": [
       "4"
      ]
     },
     "execution_count": 4,
     "metadata": {},
     "output_type": "execute_result"
    }
   ],
   "source": [
    "l=[2,3,4,5,6,'sanowar']\n",
    "\n",
    "class all_list:\n",
    "    def __init__(self,a):\n",
    "        self.a=a\n",
    "\n",
    "    def getcount(self):\n",
    "        count=0\n",
    "        for i in self.a:\n",
    "            count=count+1\n",
    "        return count\n",
    "\n",
    "z=all_list([2,3,4,5])\n",
    "z.getcount()"
   ]
  },
  {
   "cell_type": "code",
   "execution_count": null,
   "id": "731177d3",
   "metadata": {},
   "outputs": [],
   "source": []
  }
 ],
 "metadata": {
  "kernelspec": {
   "display_name": "Python 3 (ipykernel)",
   "language": "python",
   "name": "python3"
  },
  "language_info": {
   "codemirror_mode": {
    "name": "ipython",
    "version": 3
   },
   "file_extension": ".py",
   "mimetype": "text/x-python",
   "name": "python",
   "nbconvert_exporter": "python",
   "pygments_lexer": "ipython3",
   "version": "3.9.7"
  }
 },
 "nbformat": 4,
 "nbformat_minor": 5
}
