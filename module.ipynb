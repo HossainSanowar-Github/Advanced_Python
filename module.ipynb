{
 "cells": [
  {
   "cell_type": "markdown",
   "id": "adef2642",
   "metadata": {},
   "source": [
    "# Module\n",
    "* How to use current code \n",
    "* collection of a code and reuse it"
   ]
  },
  {
   "cell_type": "code",
   "execution_count": 1,
   "id": "714f34f6",
   "metadata": {},
   "outputs": [],
   "source": [
    "import os"
   ]
  },
  {
   "cell_type": "code",
   "execution_count": 2,
   "id": "312f9d9f",
   "metadata": {},
   "outputs": [],
   "source": [
    "#create py file\n",
    "#open('test.py','w')"
   ]
  },
  {
   "cell_type": "code",
   "execution_count": 3,
   "id": "9f88bc34",
   "metadata": {},
   "outputs": [],
   "source": [
    "import test"
   ]
  },
  {
   "cell_type": "code",
   "execution_count": 4,
   "id": "42d94125",
   "metadata": {},
   "outputs": [],
   "source": [
    "#open('myfunc.py','w')"
   ]
  },
  {
   "cell_type": "code",
   "execution_count": 5,
   "id": "e354fa76",
   "metadata": {},
   "outputs": [
    {
     "data": {
      "text/plain": [
       "'/Users/mdsanowarhossain/Documents/python/Python_Advanced'"
      ]
     },
     "execution_count": 5,
     "metadata": {},
     "output_type": "execute_result"
    }
   ],
   "source": [
    "pwd"
   ]
  },
  {
   "cell_type": "code",
   "execution_count": 12,
   "id": "5dad3922",
   "metadata": {},
   "outputs": [],
   "source": [
    "import myfunc\n",
    "from myfunc import dict_parsing"
   ]
  },
  {
   "cell_type": "code",
   "execution_count": 7,
   "id": "1b3fbede",
   "metadata": {},
   "outputs": [
    {
     "data": {
      "text/plain": [
       "myfunc.dict_parsing"
      ]
     },
     "execution_count": 7,
     "metadata": {},
     "output_type": "execute_result"
    }
   ],
   "source": [
    "myfunc.dict_parsing"
   ]
  },
  {
   "cell_type": "code",
   "execution_count": 9,
   "id": "56522d8c",
   "metadata": {},
   "outputs": [],
   "source": [
    "d=myfunc.dict_parsing({'k':'sanowar','k1':23})"
   ]
  },
  {
   "cell_type": "code",
   "execution_count": 10,
   "id": "7e7f21f4",
   "metadata": {},
   "outputs": [
    {
     "data": {
      "text/plain": [
       "['k', 'k1']"
      ]
     },
     "execution_count": 10,
     "metadata": {},
     "output_type": "execute_result"
    }
   ],
   "source": [
    "d.getkeys()"
   ]
  },
  {
   "cell_type": "code",
   "execution_count": 11,
   "id": "eddb7510",
   "metadata": {},
   "outputs": [
    {
     "data": {
      "text/plain": [
       "['sanowar', 23]"
      ]
     },
     "execution_count": 11,
     "metadata": {},
     "output_type": "execute_result"
    }
   ],
   "source": [
    "d.getvalues()"
   ]
  },
  {
   "cell_type": "code",
   "execution_count": 13,
   "id": "ba143c4c",
   "metadata": {},
   "outputs": [],
   "source": [
    "d1=dict_parsing({'k':'sanowar','k1':23})"
   ]
  },
  {
   "cell_type": "code",
   "execution_count": 14,
   "id": "783e3117",
   "metadata": {},
   "outputs": [
    {
     "data": {
      "text/plain": [
       "['k', 'k1']"
      ]
     },
     "execution_count": 14,
     "metadata": {},
     "output_type": "execute_result"
    }
   ],
   "source": [
    "d1.getkeys()"
   ]
  },
  {
   "cell_type": "markdown",
   "id": "e273c2e2",
   "metadata": {},
   "source": [
    "# Import multiple class from single module\n"
   ]
  },
  {
   "cell_type": "code",
   "execution_count": 1,
   "id": "a55f0284",
   "metadata": {},
   "outputs": [],
   "source": [
    "from myfunc import dict_parsing, dict_parsing2,dict_parsing3"
   ]
  },
  {
   "cell_type": "code",
   "execution_count": 2,
   "id": "8040b2e0",
   "metadata": {},
   "outputs": [],
   "source": [
    "d2=dict_parsing3({'k':'sanowar','k1':23})"
   ]
  },
  {
   "cell_type": "code",
   "execution_count": 3,
   "id": "e5963e9a",
   "metadata": {},
   "outputs": [
    {
     "data": {
      "text/plain": [
       "['k', 'k1']"
      ]
     },
     "execution_count": 3,
     "metadata": {},
     "output_type": "execute_result"
    }
   ],
   "source": [
    "d2.getkeys()"
   ]
  },
  {
   "cell_type": "markdown",
   "id": "2e801305",
   "metadata": {},
   "source": [
    "Question"
   ]
  },
  {
   "cell_type": "markdown",
   "id": "f1601aad",
   "metadata": {},
   "source": [
    "* q1. Create your own package for all the list function\n",
    "* q2. Create your own package for all the tuple function\n",
    "* q3. Create your own package for all the dictionary function\n",
    "* q4. Create your own package for all the set function"
   ]
  },
  {
   "cell_type": "markdown",
   "id": "550b02a2",
   "metadata": {},
   "source": [
    "* Restriction:\n",
    "    * always use exception handling\n",
    "    * never use print statement\n",
    "    * always use logging while writing a code and log every activity performed by code in respective logging file"
   ]
  },
  {
   "cell_type": "code",
   "execution_count": null,
   "id": "d6dfeafc",
   "metadata": {},
   "outputs": [],
   "source": [
    "l=[2,3,4,5]\n",
    "l."
   ]
  }
 ],
 "metadata": {
  "kernelspec": {
   "display_name": "Python 3 (ipykernel)",
   "language": "python",
   "name": "python3"
  },
  "language_info": {
   "codemirror_mode": {
    "name": "ipython",
    "version": 3
   },
   "file_extension": ".py",
   "mimetype": "text/x-python",
   "name": "python",
   "nbconvert_exporter": "python",
   "pygments_lexer": "ipython3",
   "version": "3.9.7"
  }
 },
 "nbformat": 4,
 "nbformat_minor": 5
}
