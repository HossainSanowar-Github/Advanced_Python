{
 "cells": [
  {
   "cell_type": "markdown",
   "id": "77a676c5",
   "metadata": {},
   "source": [
    "# OOPs Concept\n",
    "* How to use big project in single project \n",
    "* Object Oriented Programming\n",
    "* Multiple function inside the OOPs Concept\n",
    "* Task will be more structure way\n",
    "* increase and reusibility of code\n",
    "* init is a constructor, pass the data to a class\n",
    "* self keyword/first keyword is a pointer\n",
    "* class can be possible to define without __init__ constructor"
   ]
  },
  {
   "cell_type": "code",
   "execution_count": 1,
   "id": "31b9922a",
   "metadata": {},
   "outputs": [],
   "source": [
    "#define class\n",
    "class car:\n",
    "    pass"
   ]
  },
  {
   "cell_type": "code",
   "execution_count": 9,
   "id": "fb5c0424",
   "metadata": {},
   "outputs": [],
   "source": [
    "# init is a constructor, pass the data to a class\n",
    "# self is a pointer\n",
    "class car:\n",
    "    def __init__(self,brand_name,fuel_type,body_type):\n",
    "        self.brand_name=brand_name\n",
    "        self.fuel_type=fuel_type\n",
    "        self.body_type=body_type\n",
    "\n",
    "    #this is called method\n",
    "    def desc_car(self):\n",
    "        print(self.brand_name,self.fuel_type,self.body_type)\n",
    "        \n",
    "    "
   ]
  },
  {
   "cell_type": "code",
   "execution_count": 16,
   "id": "4781b7e0",
   "metadata": {},
   "outputs": [],
   "source": [
    "#this is called object\n",
    "innova=car('toyota','petrol','suv')\n",
    "nexon=car('tata','petrol','min suv')\n",
    "fortuna=car('toyota','disel','suv')"
   ]
  },
  {
   "cell_type": "code",
   "execution_count": 17,
   "id": "d8fe7905",
   "metadata": {},
   "outputs": [
    {
     "name": "stdout",
     "output_type": "stream",
     "text": [
      "toyota petrol suv\n",
      "tata petrol min suv\n",
      "toyota disel suv\n"
     ]
    }
   ],
   "source": [
    "innova.desc_car()\n",
    "nexon.desc_car()\n",
    "fortuna.desc_car()"
   ]
  },
  {
   "cell_type": "code",
   "execution_count": 14,
   "id": "d70ee4b8",
   "metadata": {},
   "outputs": [
    {
     "data": {
      "text/plain": [
       "'toyota'"
      ]
     },
     "execution_count": 14,
     "metadata": {},
     "output_type": "execute_result"
    }
   ],
   "source": [
    "innova.brand_name"
   ]
  },
  {
   "cell_type": "code",
   "execution_count": 30,
   "id": "f0896dd0",
   "metadata": {},
   "outputs": [],
   "source": [
    "# define class for another example\n",
    "class car:\n",
    "    def __init__(self,body_type,engine,fuel_type):\n",
    "        self.body_type1=body_type\n",
    "        self.engine=engine\n",
    "        self.fuel_type=fuel_type\n",
    "\n",
    "    #this is called method\n",
    "    def test(self):\n",
    "        print('this is for test')\n"
   ]
  },
  {
   "cell_type": "code",
   "execution_count": 31,
   "id": "d2a5fabd",
   "metadata": {},
   "outputs": [],
   "source": [
    "innova=car('toyota','petrol','fuel')"
   ]
  },
  {
   "cell_type": "code",
   "execution_count": 32,
   "id": "739182c8",
   "metadata": {},
   "outputs": [
    {
     "name": "stdout",
     "output_type": "stream",
     "text": [
      "this is for test\n"
     ]
    }
   ],
   "source": [
    "innova.test()"
   ]
  },
  {
   "cell_type": "code",
   "execution_count": 33,
   "id": "59c5c4c7",
   "metadata": {},
   "outputs": [
    {
     "name": "stdout",
     "output_type": "stream",
     "text": [
      "this is for test\n"
     ]
    }
   ],
   "source": [
    "fortuna=car('bmw','disel','bm10')\n",
    "fortuna.test()"
   ]
  },
  {
   "cell_type": "code",
   "execution_count": 35,
   "id": "61f2e1fb",
   "metadata": {},
   "outputs": [
    {
     "data": {
      "text/plain": [
       "'bmw'"
      ]
     },
     "execution_count": 35,
     "metadata": {},
     "output_type": "execute_result"
    }
   ],
   "source": [
    "fortuna.body_type1"
   ]
  },
  {
   "cell_type": "code",
   "execution_count": 36,
   "id": "d6cc663e",
   "metadata": {},
   "outputs": [],
   "source": [
    "# define class for another example\n",
    "class car:\n",
    "    def __init__(self,body_type,engine,fuel_type):\n",
    "        self.a=body_type\n",
    "        self.b=engine\n",
    "        self.c=fuel_type\n",
    "\n",
    "    #this is called method\n",
    "    def test(self):\n",
    "        print('this is for test')\n"
   ]
  },
  {
   "cell_type": "code",
   "execution_count": 37,
   "id": "0f92b6b7",
   "metadata": {},
   "outputs": [
    {
     "name": "stdout",
     "output_type": "stream",
     "text": [
      "this is for test\n"
     ]
    }
   ],
   "source": [
    "fortuna=car('bmw','disel','bm10')\n",
    "fortuna.test()"
   ]
  },
  {
   "cell_type": "code",
   "execution_count": 42,
   "id": "69f8d8ad",
   "metadata": {},
   "outputs": [
    {
     "ename": "AttributeError",
     "evalue": "'car' object has no attribute 'body_type'",
     "output_type": "error",
     "traceback": [
      "\u001b[0;31m---------------------------------------------------------------------------\u001b[0m",
      "\u001b[0;31mAttributeError\u001b[0m                            Traceback (most recent call last)",
      "\u001b[0;32m/var/folders/70/xyz7khq54gx8qklx52wtt6tw0000gn/T/ipykernel_8693/1319288601.py\u001b[0m in \u001b[0;36m<module>\u001b[0;34m\u001b[0m\n\u001b[0;32m----> 1\u001b[0;31m \u001b[0mfortuna\u001b[0m\u001b[0;34m.\u001b[0m\u001b[0mbody_type\u001b[0m\u001b[0;34m\u001b[0m\u001b[0;34m\u001b[0m\u001b[0m\n\u001b[0m",
      "\u001b[0;31mAttributeError\u001b[0m: 'car' object has no attribute 'body_type'"
     ]
    }
   ],
   "source": [
    "#car object is not body_type\n",
    "fortuna.body_type"
   ]
  },
  {
   "cell_type": "markdown",
   "id": "9a8565ec",
   "metadata": {},
   "source": [
    "# Class without __init__"
   ]
  },
  {
   "cell_type": "code",
   "execution_count": 50,
   "id": "01fa5d08",
   "metadata": {},
   "outputs": [],
   "source": [
    "# define class for another example\n",
    "# without __init__ constructor; altime no need a constructor\n",
    "# self keyword/first keyword is a pointer\n",
    "class car:\n",
    "\n",
    "    #this is called method\n",
    "    def test(self,b,c):\n",
    "        print('this is for test_11')\n"
   ]
  },
  {
   "cell_type": "code",
   "execution_count": 51,
   "id": "fc98ff7f",
   "metadata": {},
   "outputs": [],
   "source": [
    "# x is a object of car class\n",
    "x=car()"
   ]
  },
  {
   "cell_type": "code",
   "execution_count": 55,
   "id": "778a0792",
   "metadata": {},
   "outputs": [
    {
     "name": "stdout",
     "output_type": "stream",
     "text": [
      "this is for test_11\n"
     ]
    }
   ],
   "source": [
    "x.test(2,3)"
   ]
  },
  {
   "cell_type": "markdown",
   "id": "91819398",
   "metadata": {},
   "source": [
    "# Example"
   ]
  },
  {
   "cell_type": "code",
   "execution_count": 58,
   "id": "8641695a",
   "metadata": {},
   "outputs": [],
   "source": [
    "class list_parse:\n",
    "    \n",
    "    def parcer(self,a):\n",
    "        if type(a)==list:\n",
    "            for i in a:\n",
    "                print(i)\n",
    "    \n",
    "    def reverse_list(self,b):\n",
    "        if type(b)==list:\n",
    "            return b[::-1]"
   ]
  },
  {
   "cell_type": "code",
   "execution_count": 59,
   "id": "1638b7b6",
   "metadata": {},
   "outputs": [
    {
     "name": "stdout",
     "output_type": "stream",
     "text": [
      "2\n",
      "3\n",
      "4\n",
      "5\n"
     ]
    }
   ],
   "source": [
    "class_list=list_parse()\n",
    "class_list.parcer([2,3,4,5])"
   ]
  },
  {
   "cell_type": "code",
   "execution_count": 60,
   "id": "07e46dd0",
   "metadata": {},
   "outputs": [
    {
     "data": {
      "text/plain": [
       "[5, 4, 3, 2]"
      ]
     },
     "execution_count": 60,
     "metadata": {},
     "output_type": "execute_result"
    }
   ],
   "source": [
    "class_list.reverse_list([2,3,4,5])"
   ]
  },
  {
   "cell_type": "markdown",
   "id": "855df806",
   "metadata": {},
   "source": [
    "# Example with __init__"
   ]
  },
  {
   "cell_type": "code",
   "execution_count": 78,
   "id": "af0e9da6",
   "metadata": {},
   "outputs": [],
   "source": [
    "class list_parse1:\n",
    "    def __init__(self,l):\n",
    "        self.l=l\n",
    "    \n",
    "    def parcer(self):\n",
    "        if type(self.l)==list:\n",
    "            for i in self.l:\n",
    "                print(i)\n",
    "    \n",
    "    def reverse_list(self):\n",
    "        if type(self.l)==list:\n",
    "            return self.l[::-1]"
   ]
  },
  {
   "cell_type": "code",
   "execution_count": 79,
   "id": "9eef8623",
   "metadata": {},
   "outputs": [
    {
     "name": "stdout",
     "output_type": "stream",
     "text": [
      "2\n",
      "3\n",
      "4\n",
      "5\n"
     ]
    }
   ],
   "source": [
    "class_list1=list_parse1([2,3,4,5])\n",
    "class_list1.parcer()"
   ]
  },
  {
   "cell_type": "code",
   "execution_count": 80,
   "id": "a062343b",
   "metadata": {},
   "outputs": [
    {
     "data": {
      "text/plain": [
       "[5, 4, 3, 2]"
      ]
     },
     "execution_count": 80,
     "metadata": {},
     "output_type": "execute_result"
    }
   ],
   "source": [
    "class_list1.reverse_list()"
   ]
  },
  {
   "cell_type": "markdown",
   "id": "6a7e271a",
   "metadata": {},
   "source": [
    "# create a class for dictonary parsing\n",
    "1. write a function to give all the keys\n",
    "2. write a function to give all the values\n",
    "3. write a function to throw an exception in case of input is not dictionary\n",
    "4. write a function for take user input and then parse a key and value out of dictionary\n",
    "5. write a fuction to insert new key value pair in dictonary"
   ]
  },
  {
   "cell_type": "code",
   "execution_count": 118,
   "id": "0c6dbaf9",
   "metadata": {},
   "outputs": [],
   "source": [
    "class dicton:\n",
    "    def __init__(self,a):\n",
    "        self.a=a\n",
    "        \n",
    "    def all_key(self):\n",
    "          if type(self.a)==dict:\n",
    "            return self.a.keys()\n",
    "    \n",
    "    def all_value(self):\n",
    "            if type(self.a)==dict:\n",
    "                return self.a.values()\n",
    "    \n",
    "    def key_value(self):\n",
    "            if type(self.a)==dict:\n",
    "                return self.a.items()\n",
    "    \n",
    "    def insertion(self, k, v):\n",
    "        self.a[k]=v"
   ]
  },
  {
   "cell_type": "code",
   "execution_count": 121,
   "id": "99f00853",
   "metadata": {},
   "outputs": [],
   "source": [
    "z=dicton({'k':2,'k2':3})"
   ]
  },
  {
   "cell_type": "code",
   "execution_count": 122,
   "id": "42b26cee",
   "metadata": {},
   "outputs": [
    {
     "data": {
      "text/plain": [
       "dict_keys(['k', 'k2'])"
      ]
     },
     "execution_count": 122,
     "metadata": {},
     "output_type": "execute_result"
    }
   ],
   "source": [
    "z.all_key()"
   ]
  },
  {
   "cell_type": "code",
   "execution_count": 123,
   "id": "67325a2c",
   "metadata": {},
   "outputs": [
    {
     "data": {
      "text/plain": [
       "dict_values([2, 3])"
      ]
     },
     "execution_count": 123,
     "metadata": {},
     "output_type": "execute_result"
    }
   ],
   "source": [
    "z.all_value()"
   ]
  },
  {
   "cell_type": "code",
   "execution_count": 124,
   "id": "56da4375",
   "metadata": {},
   "outputs": [
    {
     "data": {
      "text/plain": [
       "dict_items([('k', 2), ('k2', 3)])"
      ]
     },
     "execution_count": 124,
     "metadata": {},
     "output_type": "execute_result"
    }
   ],
   "source": [
    "z.key_value()"
   ]
  },
  {
   "cell_type": "code",
   "execution_count": 125,
   "id": "3733b82a",
   "metadata": {
    "scrolled": false
   },
   "outputs": [],
   "source": [
    "z.insertion('k1',2)\n"
   ]
  },
  {
   "cell_type": "markdown",
   "id": "9f104549",
   "metadata": {},
   "source": [
    "# create a class for dictonary parsing\n",
    "1. write a function to give all the keys\n",
    "2. write a function to give all the values\n",
    "3. write a function to throw an exception in case of input is not dictionary\n",
    "4. write a function for take user input and then parse a key and value out of dictionary\n",
    "5. write a fuction to insert new key value pair in dictonary"
   ]
  },
  {
   "cell_type": "code",
   "execution_count": 128,
   "id": "f5b12b04",
   "metadata": {},
   "outputs": [],
   "source": [
    "class dict_parsing:\n",
    "    def __init__(self,a):\n",
    "        self.a=a\n",
    "        \n",
    "    def getkeys(self):\n",
    "          if self.notdict():\n",
    "                return list(self.a.keys())\n",
    "    \n",
    "    def getvalues(self):\n",
    "            if self.notdict():\n",
    "                return list(self.a.values())\n",
    "    \n",
    "    def notdict(self):\n",
    "        if type(self.a)!=dict:\n",
    "            raise Exception(self.a,'Not a dictionary')\n",
    "        return 1\n",
    "    \n",
    "    def userinput(self):\n",
    "        self.a=eval(input())#eval is global dict and local maping\n",
    "        print(self.a,type(self.a))\n",
    "        print(self.getkeys())\n",
    "        print(self.gatevalues())\n",
    "        \n",
    "    def insertion(self,k,v):\n",
    "        self.a[k]=v"
   ]
  },
  {
   "cell_type": "code",
   "execution_count": 129,
   "id": "e6243a1e",
   "metadata": {},
   "outputs": [],
   "source": [
    "d=dict_parsing({'k':'sanowar','k1':23})"
   ]
  },
  {
   "cell_type": "code",
   "execution_count": 130,
   "id": "51bab2bd",
   "metadata": {},
   "outputs": [
    {
     "data": {
      "text/plain": [
       "['k', 'k1']"
      ]
     },
     "execution_count": 130,
     "metadata": {},
     "output_type": "execute_result"
    }
   ],
   "source": [
    "d.getkeys()"
   ]
  },
  {
   "cell_type": "code",
   "execution_count": 131,
   "id": "ed636f0d",
   "metadata": {},
   "outputs": [
    {
     "data": {
      "text/plain": [
       "['sanowar', 23]"
      ]
     },
     "execution_count": 131,
     "metadata": {},
     "output_type": "execute_result"
    }
   ],
   "source": [
    "d.getvalues()"
   ]
  },
  {
   "cell_type": "code",
   "execution_count": 137,
   "id": "924c95b5",
   "metadata": {},
   "outputs": [],
   "source": [
    "d.insertion('k4',4)"
   ]
  },
  {
   "cell_type": "code",
   "execution_count": 154,
   "id": "9cdd8c6b",
   "metadata": {},
   "outputs": [],
   "source": [
    "#Another solution\n",
    "class dict_class:\n",
    "    def __init__(self,d):\n",
    "        if type(d)!=dict:\n",
    "            raise Exception('Not dictionary')\n",
    "        \n",
    "        self.d=d\n",
    "    \n",
    "    def getkeys(self):\n",
    "        for i in self.d.keys():\n",
    "            print(i)\n",
    "            \n",
    "    def getvalues(self):\n",
    "        for i in self.d.values():\n",
    "            print(i)\n",
    "    \n",
    "    def getitems(self):\n",
    "        for i in self.d.items():\n",
    "            print(i)\n",
    "          \n",
    "    def userinput(self):\n",
    "        self.a=eval(input())#eval is global dict and local maping\n",
    "        print(self.a,type(self.a))\n",
    "        print(self.getkeys())\n",
    "        print(self.getvalues())\n",
    "        \n",
    "    def insertion(self,**kwargs):\n",
    "        for k,v in kwargs.items():\n",
    "            self.d[k]=v"
   ]
  },
  {
   "cell_type": "code",
   "execution_count": 155,
   "id": "263cce53",
   "metadata": {},
   "outputs": [],
   "source": [
    "z=dict_class({'k':2,'k1':3})"
   ]
  },
  {
   "cell_type": "code",
   "execution_count": 147,
   "id": "76c1d4d1",
   "metadata": {},
   "outputs": [
    {
     "name": "stdout",
     "output_type": "stream",
     "text": [
      "k\n",
      "k1\n"
     ]
    }
   ],
   "source": [
    "z.getkeys()"
   ]
  },
  {
   "cell_type": "code",
   "execution_count": 148,
   "id": "a6e0cc5b",
   "metadata": {},
   "outputs": [
    {
     "name": "stdout",
     "output_type": "stream",
     "text": [
      "2\n",
      "3\n"
     ]
    }
   ],
   "source": [
    "z.getvalues()"
   ]
  },
  {
   "cell_type": "code",
   "execution_count": 149,
   "id": "fbbef31d",
   "metadata": {},
   "outputs": [
    {
     "name": "stdout",
     "output_type": "stream",
     "text": [
      "('k', 2)\n",
      "('k1', 3)\n"
     ]
    }
   ],
   "source": [
    "z.getitems()"
   ]
  },
  {
   "cell_type": "code",
   "execution_count": 152,
   "id": "d2d11d72",
   "metadata": {},
   "outputs": [],
   "source": [
    "z.insertion(k3=5)"
   ]
  },
  {
   "cell_type": "code",
   "execution_count": 156,
   "id": "2f0100e8",
   "metadata": {},
   "outputs": [
    {
     "name": "stdout",
     "output_type": "stream",
     "text": [
      "{'k2':3,'k3':4}\n",
      "{'k2': 3, 'k3': 4} <class 'dict'>\n",
      "k\n",
      "k1\n",
      "None\n",
      "2\n",
      "3\n",
      "None\n"
     ]
    }
   ],
   "source": [
    "z.userinput()"
   ]
  },
  {
   "cell_type": "code",
   "execution_count": null,
   "id": "c1d0e074",
   "metadata": {},
   "outputs": [],
   "source": []
  }
 ],
 "metadata": {
  "kernelspec": {
   "display_name": "Python 3 (ipykernel)",
   "language": "python",
   "name": "python3"
  },
  "language_info": {
   "codemirror_mode": {
    "name": "ipython",
    "version": 3
   },
   "file_extension": ".py",
   "mimetype": "text/x-python",
   "name": "python",
   "nbconvert_exporter": "python",
   "pygments_lexer": "ipython3",
   "version": "3.9.7"
  }
 },
 "nbformat": 4,
 "nbformat_minor": 5
}
