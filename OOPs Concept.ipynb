{
 "cells": [
  {
   "cell_type": "code",
   "execution_count": 2,
   "id": "8565edeb",
   "metadata": {},
   "outputs": [],
   "source": [
    "class xyz:\n",
    "    def __init__(self, a,b,c):\n",
    "        self.a=a\n",
    "        self.b=b\n",
    "        self.c=c\n",
    "    \n",
    "    def test(self):\n",
    "        print('This is my first method of xyz class')\n",
    "    \n",
    "    def test1(self):\n",
    "        print('This is a test meth of xyz class')\n",
    "        \n",
    "    def test2(self):\n",
    "        print('This is my test2 meth of xyz class')"
   ]
  },
  {
   "cell_type": "code",
   "execution_count": 4,
   "id": "9442060f",
   "metadata": {},
   "outputs": [],
   "source": [
    "p=xyz(1,2,3)"
   ]
  },
  {
   "cell_type": "code",
   "execution_count": 6,
   "id": "c93545a1",
   "metadata": {},
   "outputs": [
    {
     "name": "stdout",
     "output_type": "stream",
     "text": [
      "This is a test meth of xyz class\n"
     ]
    }
   ],
   "source": [
    "p.test1()"
   ]
  },
  {
   "cell_type": "code",
   "execution_count": null,
   "id": "27980b2b",
   "metadata": {},
   "outputs": [],
   "source": []
  },
  {
   "cell_type": "code",
   "execution_count": 3,
   "id": "3157957b",
   "metadata": {},
   "outputs": [],
   "source": [
    "# need to appply variable, or method of xyz class without create as new\n",
    "# how we will d reutilize of xyz class\n",
    "# class inside of another class, this is called inheritence\n",
    "# xyz is parent class and xyz1 is child class\n",
    "\n",
    "class xyz1(xyz):\n",
    "    pass"
   ]
  },
  {
   "cell_type": "code",
   "execution_count": 8,
   "id": "05d46f64",
   "metadata": {},
   "outputs": [],
   "source": [
    "q=xyz1(3,4,5)"
   ]
  },
  {
   "cell_type": "code",
   "execution_count": 12,
   "id": "9ff8f195",
   "metadata": {},
   "outputs": [
    {
     "name": "stdout",
     "output_type": "stream",
     "text": [
      "This is my first method of xyz class\n"
     ]
    }
   ],
   "source": [
    "q.test()"
   ]
  },
  {
   "cell_type": "code",
   "execution_count": 13,
   "id": "564fa1dc",
   "metadata": {},
   "outputs": [],
   "source": [
    "class xyz1(xyz):\n",
    "    \n",
    "    def test(self):\n",
    "        print('This is a test meth available in xyz1')"
   ]
  },
  {
   "cell_type": "code",
   "execution_count": 14,
   "id": "c1e89302",
   "metadata": {},
   "outputs": [],
   "source": [
    "g=xyz1(4,3,5)"
   ]
  },
  {
   "cell_type": "code",
   "execution_count": 15,
   "id": "446cbfc7",
   "metadata": {},
   "outputs": [
    {
     "name": "stdout",
     "output_type": "stream",
     "text": [
      "This is a test meth available in xyz1\n"
     ]
    }
   ],
   "source": [
    "g.test()"
   ]
  },
  {
   "cell_type": "code",
   "execution_count": 35,
   "id": "8b648ca9",
   "metadata": {},
   "outputs": [],
   "source": [
    "class xyz():\n",
    "    def __init__(self, a,b,c):\n",
    "        self.a=a\n",
    "        self.b=b\n",
    "        self.c=c\n",
    "    def test(self):\n",
    "        print(\"this is a meth of xyz another class\")\n",
    "        \n",
    "class xyz1:\n",
    "    def __init__(self, p,q,v):\n",
    "        self.p=p\n",
    "        self.q=q\n",
    "        self.v=v\n",
    "        \n",
    "    def test1(self):\n",
    "        print('this is meth of xyz1')\n",
    "\n",
    "class child(xyz,xyz1):\n",
    "    def __init__(self,*args,**kwargs1):\n",
    "        xyz.__init__(self,*args)\n",
    "        xyz1.__init__(self,**kwargs1)\n",
    "            "
   ]
  },
  {
   "cell_type": "code",
   "execution_count": 38,
   "id": "c11d6c91",
   "metadata": {},
   "outputs": [],
   "source": [
    "n=child(4,5,6,p=3,q=4,v=5)"
   ]
  },
  {
   "cell_type": "code",
   "execution_count": 39,
   "id": "af0411f5",
   "metadata": {},
   "outputs": [
    {
     "data": {
      "text/plain": [
       "3"
      ]
     },
     "execution_count": 39,
     "metadata": {},
     "output_type": "execute_result"
    }
   ],
   "source": [
    "n.p"
   ]
  },
  {
   "cell_type": "code",
   "execution_count": 40,
   "id": "329c1278",
   "metadata": {},
   "outputs": [
    {
     "data": {
      "text/plain": [
       "4"
      ]
     },
     "execution_count": 40,
     "metadata": {},
     "output_type": "execute_result"
    }
   ],
   "source": [
    "n.a"
   ]
  },
  {
   "cell_type": "code",
   "execution_count": 46,
   "id": "deac29ad",
   "metadata": {},
   "outputs": [],
   "source": [
    "#multi lebel inheritence\n",
    "class xyz():\n",
    "    def __init__(self, a,b,c):\n",
    "        self.a=a\n",
    "        self.b=b\n",
    "        self.c=c\n",
    "    def test(self):\n",
    "        print(\"this is a meth of xyz another class\")\n",
    "        \n",
    "class xyz1(xyz):        \n",
    "    def test1(self):\n",
    "        print('this is meth of xyz1')\n",
    "    \n",
    "class xyz2(xyz1):\n",
    "    def test2(self):\n",
    "        print('class 2')\n",
    "class xyz3(xyz2):\n",
    "    def test3(self):\n",
    "        print('this is a meth of class xyz3')\n",
    "    "
   ]
  },
  {
   "cell_type": "code",
   "execution_count": 47,
   "id": "e317782b",
   "metadata": {},
   "outputs": [],
   "source": [
    "v=xyz2(5,6,7)"
   ]
  },
  {
   "cell_type": "code",
   "execution_count": 50,
   "id": "af76c770",
   "metadata": {},
   "outputs": [],
   "source": [
    "m=xyz3(3,4,5)"
   ]
  },
  {
   "cell_type": "markdown",
   "id": "f7814cc8",
   "metadata": {},
   "source": [
    "Task:\n",
    "* q1: create a file class for reading data from respective file with a method name read and write\n",
    "* q2: try to inherit read and write method from parent class to child class to perform read an dwrite operation"
   ]
  },
  {
   "cell_type": "code",
   "execution_count": 51,
   "id": "b7dc8b2e",
   "metadata": {},
   "outputs": [],
   "source": [
    "class file:\n",
    "    def __init__(self,a,b,c):\n",
    "        self.a=a\n",
    "        self.b=b\n",
    "        self.c=c\n",
    "        \n",
    "    def read(self):\n",
    "        print('This is a meth of class file')\n",
    " \n",
    "    def write(self):\n",
    "        print('This is a meth of class file')\n",
    "        \n",
    "class child(file):\n",
    "    pass\n"
   ]
  },
  {
   "cell_type": "code",
   "execution_count": 52,
   "id": "d034c7f6",
   "metadata": {},
   "outputs": [],
   "source": [
    "p=file(3,4,5)"
   ]
  },
  {
   "cell_type": "code",
   "execution_count": 53,
   "id": "3a1d4568",
   "metadata": {},
   "outputs": [],
   "source": [
    "q=child(2,3,4)"
   ]
  },
  {
   "cell_type": "code",
   "execution_count": null,
   "id": "a6742498",
   "metadata": {},
   "outputs": [],
   "source": [
    "q."
   ]
  },
  {
   "cell_type": "code",
   "execution_count": null,
   "id": "0346ad92",
   "metadata": {},
   "outputs": [],
   "source": [
    "#public, private and protected\n"
   ]
  },
  {
   "cell_type": "code",
   "execution_count": 57,
   "id": "0ed56d4d",
   "metadata": {},
   "outputs": [],
   "source": [
    "class test:\n",
    "    def __init__(self,a,b,c):\n",
    "        self.a=a\n",
    "        self.b=b\n",
    "        self.c=c\n",
    "\n",
    "class test1(test):\n",
    "    pass\n",
    "u=test(4,5,6)"
   ]
  },
  {
   "cell_type": "code",
   "execution_count": 58,
   "id": "f5f2e161",
   "metadata": {},
   "outputs": [],
   "source": [
    "v=test1(3,4,5)"
   ]
  },
  {
   "cell_type": "code",
   "execution_count": 59,
   "id": "5d2485f4",
   "metadata": {},
   "outputs": [
    {
     "data": {
      "text/plain": [
       "3"
      ]
     },
     "execution_count": 59,
     "metadata": {},
     "output_type": "execute_result"
    }
   ],
   "source": [
    "v.a"
   ]
  },
  {
   "cell_type": "code",
   "execution_count": 83,
   "id": "13938480",
   "metadata": {},
   "outputs": [],
   "source": [
    "class test:\n",
    "    def __init__(self):\n",
    "        self.a=4\n",
    "\n",
    "\n",
    "class test1(test):\n",
    "    def __init__(self):\n",
    "        test.__init__(self)\n",
    "        self.a=7\n",
    "        #self.a=7\n",
    "u=test()"
   ]
  },
  {
   "cell_type": "code",
   "execution_count": 84,
   "id": "367b9a5d",
   "metadata": {},
   "outputs": [
    {
     "data": {
      "text/plain": [
       "4"
      ]
     },
     "execution_count": 84,
     "metadata": {},
     "output_type": "execute_result"
    }
   ],
   "source": [
    "u.a"
   ]
  },
  {
   "cell_type": "code",
   "execution_count": 85,
   "id": "77640021",
   "metadata": {},
   "outputs": [],
   "source": [
    "v=test1()"
   ]
  },
  {
   "cell_type": "code",
   "execution_count": 86,
   "id": "22a5c821",
   "metadata": {},
   "outputs": [
    {
     "data": {
      "text/plain": [
       "7"
      ]
     },
     "execution_count": 86,
     "metadata": {},
     "output_type": "execute_result"
    }
   ],
   "source": [
    "v.a"
   ]
  },
  {
   "cell_type": "code",
   "execution_count": 92,
   "id": "0ab5274b",
   "metadata": {},
   "outputs": [],
   "source": [
    "class test:\n",
    "    def __init__(self):\n",
    "        self._a=4\n",
    "\n",
    "\n",
    "class test1(test):\n",
    "    def __init__(self):\n",
    "        test.__init__(self)\n",
    "        self._a=7\n",
    "        #self.a=7\n",
    "u=test()"
   ]
  },
  {
   "cell_type": "code",
   "execution_count": 93,
   "id": "d7e785d5",
   "metadata": {},
   "outputs": [
    {
     "data": {
      "text/plain": [
       "4"
      ]
     },
     "execution_count": 93,
     "metadata": {},
     "output_type": "execute_result"
    }
   ],
   "source": [
    "u._a"
   ]
  },
  {
   "cell_type": "code",
   "execution_count": 110,
   "id": "0a8a8089",
   "metadata": {},
   "outputs": [],
   "source": [
    "class test:\n",
    "    def __init__(self,a,b,c):\n",
    "        self._a=a#protected\n",
    "        self.__b=b#private\n",
    "        self.c=c#public\n",
    "class test1(test):\n",
    "    #def __init__(self):\n",
    "        pass\n",
    "v=test(4,5,6)"
   ]
  },
  {
   "cell_type": "code",
   "execution_count": 111,
   "id": "9e139a67",
   "metadata": {},
   "outputs": [
    {
     "data": {
      "text/plain": [
       "4"
      ]
     },
     "execution_count": 111,
     "metadata": {},
     "output_type": "execute_result"
    }
   ],
   "source": [
    "v._a"
   ]
  },
  {
   "cell_type": "code",
   "execution_count": 112,
   "id": "f098d1e4",
   "metadata": {},
   "outputs": [
    {
     "data": {
      "text/plain": [
       "5"
      ]
     },
     "execution_count": 112,
     "metadata": {},
     "output_type": "execute_result"
    }
   ],
   "source": [
    "v._test__b"
   ]
  },
  {
   "cell_type": "code",
   "execution_count": 113,
   "id": "3f2984aa",
   "metadata": {},
   "outputs": [
    {
     "data": {
      "text/plain": [
       "6"
      ]
     },
     "execution_count": 113,
     "metadata": {},
     "output_type": "execute_result"
    }
   ],
   "source": [
    "v.c"
   ]
  },
  {
   "cell_type": "code",
   "execution_count": 114,
   "id": "492792ce",
   "metadata": {},
   "outputs": [],
   "source": [
    "u=test1(3,4,7)"
   ]
  },
  {
   "cell_type": "code",
   "execution_count": 115,
   "id": "3185b16f",
   "metadata": {},
   "outputs": [
    {
     "data": {
      "text/plain": [
       "7"
      ]
     },
     "execution_count": 115,
     "metadata": {},
     "output_type": "execute_result"
    }
   ],
   "source": [
    "u.c"
   ]
  },
  {
   "cell_type": "code",
   "execution_count": 116,
   "id": "892547ef",
   "metadata": {},
   "outputs": [
    {
     "data": {
      "text/plain": [
       "3"
      ]
     },
     "execution_count": 116,
     "metadata": {},
     "output_type": "execute_result"
    }
   ],
   "source": [
    "u._a"
   ]
  },
  {
   "cell_type": "code",
   "execution_count": 117,
   "id": "7c2001ad",
   "metadata": {},
   "outputs": [
    {
     "data": {
      "text/plain": [
       "4"
      ]
     },
     "execution_count": 117,
     "metadata": {},
     "output_type": "execute_result"
    }
   ],
   "source": [
    "u._test__b"
   ]
  },
  {
   "cell_type": "markdown",
   "id": "1ab2353d",
   "metadata": {},
   "source": [
    "#polymerphism"
   ]
  },
  {
   "cell_type": "code",
   "execution_count": 118,
   "id": "8829dacb",
   "metadata": {},
   "outputs": [],
   "source": [
    "def test(a,b):\n",
    "    return a+b"
   ]
  },
  {
   "cell_type": "code",
   "execution_count": 119,
   "id": "cc953522",
   "metadata": {},
   "outputs": [
    {
     "data": {
      "text/plain": [
       "7"
      ]
     },
     "execution_count": 119,
     "metadata": {},
     "output_type": "execute_result"
    }
   ],
   "source": [
    "test(3,4)"
   ]
  },
  {
   "cell_type": "code",
   "execution_count": 120,
   "id": "fe3b7fe2",
   "metadata": {},
   "outputs": [
    {
     "data": {
      "text/plain": [
       "'sanowarhossain'"
      ]
     },
     "execution_count": 120,
     "metadata": {},
     "output_type": "execute_result"
    }
   ],
   "source": [
    "test('sanowar','hossain')"
   ]
  },
  {
   "cell_type": "code",
   "execution_count": 121,
   "id": "d6870443",
   "metadata": {},
   "outputs": [],
   "source": [
    "class insta:\n",
    "    def share_stories(self):\n",
    "        print('this is my insta story')\n",
    "\n",
    "class facebook:\n",
    "    def share_stories(self):\n",
    "        print('this is my facebook story')"
   ]
  },
  {
   "cell_type": "code",
   "execution_count": 122,
   "id": "c6d1f319",
   "metadata": {},
   "outputs": [],
   "source": [
    "def sharestories(app):\n",
    "    app.share_stories()"
   ]
  },
  {
   "cell_type": "code",
   "execution_count": 124,
   "id": "63db422d",
   "metadata": {},
   "outputs": [],
   "source": [
    "i=insta()\n",
    "f=facebook()"
   ]
  },
  {
   "cell_type": "code",
   "execution_count": 126,
   "id": "fe50363f",
   "metadata": {},
   "outputs": [
    {
     "name": "stdout",
     "output_type": "stream",
     "text": [
      "this is my insta story\n"
     ]
    }
   ],
   "source": [
    "sharestories(i)"
   ]
  },
  {
   "cell_type": "code",
   "execution_count": 127,
   "id": "b6c77a8c",
   "metadata": {},
   "outputs": [
    {
     "ename": "SyntaxError",
     "evalue": "invalid syntax (370091173.py, line 1)",
     "output_type": "error",
     "traceback": [
      "\u001b[0;36m  File \u001b[0;32m\"/var/folders/70/xyz7khq54gx8qklx52wtt6tw0000gn/T/ipykernel_71932/370091173.py\"\u001b[0;36m, line \u001b[0;32m1\u001b[0m\n\u001b[0;31m    def social_media:\u001b[0m\n\u001b[0m                    ^\u001b[0m\n\u001b[0;31mSyntaxError\u001b[0m\u001b[0;31m:\u001b[0m invalid syntax\n"
     ]
    }
   ],
   "source": [
    "def social_media:\n",
    "    def share_stories(self):\n",
    "        print('share a stories')\n",
    "    def upload_pic(self):\n",
    "        pass"
   ]
  },
  {
   "cell_type": "markdown",
   "id": "86f3d8f6",
   "metadata": {},
   "source": [
    "q1: create your own class for to achive multiple, multilevel inheritence\n",
    "q2: create your own class to represent polymorprism\n",
    "q3:  create your own class for custom exception\n",
    "q4:  create your own class to achive encaptulation\n",
    "q5:  create your own class to achive method overloading and overriding"
   ]
  },
  {
   "cell_type": "code",
   "execution_count": null,
   "id": "c5eeda89",
   "metadata": {},
   "outputs": [],
   "source": []
  }
 ],
 "metadata": {
  "kernelspec": {
   "display_name": "Python 3 (ipykernel)",
   "language": "python",
   "name": "python3"
  },
  "language_info": {
   "codemirror_mode": {
    "name": "ipython",
    "version": 3
   },
   "file_extension": ".py",
   "mimetype": "text/x-python",
   "name": "python",
   "nbconvert_exporter": "python",
   "pygments_lexer": "ipython3",
   "version": "3.9.7"
  }
 },
 "nbformat": 4,
 "nbformat_minor": 5
}
